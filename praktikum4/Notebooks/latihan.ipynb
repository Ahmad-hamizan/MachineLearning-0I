{
 "cells": [
  {
   "cell_type": "markdown",
   "id": "96eb7f7d",
   "metadata": {},
   "source": [
    "<h1>Regresi Logistik</h1>"
   ]
  },
  {
   "cell_type": "markdown",
   "id": "6d311180",
   "metadata": {},
   "source": [
    "### Import Library"
   ]
  },
  {
   "cell_type": "code",
   "execution_count": 1,
   "id": "26558ec4",
   "metadata": {},
   "outputs": [],
   "source": [
    "import pandas as pd\n",
    "import numpy as np\n",
    "from sklearn.model_selection import train_test_split\n",
    "from sklearn.compose import ColumnTransformer\n",
    "from sklearn.pipeline import Pipeline\n",
    "from sklearn.preprocessing import OneHotEncoder, StandardScaler\n",
    "from sklearn.pipeline import Pipeline\n",
    "from sklearn.linear_model import LogisticRegression\n",
    "from sklearn.metrics import (\n",
    "    accuracy_score,\n",
    "    precision_score,\n",
    "    recall_score,\n",
    "    f1_score,\n",
    "    roc_auc_score, confusion_matrix, classification_report, RocCurveDisplay, ConfusionMatrixDisplay\n",
    ")"
   ]
  },
  {
   "cell_type": "markdown",
   "id": "0303ef5f",
   "metadata": {},
   "source": [
    "### Membaca Dataset"
   ]
  },
  {
   "cell_type": "code",
   "execution_count": 3,
   "id": "ada78c5d",
   "metadata": {},
   "outputs": [
    {
     "data": {
      "text/html": [
       "<div>\n",
       "<style scoped>\n",
       "    .dataframe tbody tr th:only-of-type {\n",
       "        vertical-align: middle;\n",
       "    }\n",
       "\n",
       "    .dataframe tbody tr th {\n",
       "        vertical-align: top;\n",
       "    }\n",
       "\n",
       "    .dataframe thead th {\n",
       "        text-align: right;\n",
       "    }\n",
       "</style>\n",
       "<table border=\"1\" class=\"dataframe\">\n",
       "  <thead>\n",
       "    <tr style=\"text-align: right;\">\n",
       "      <th></th>\n",
       "      <th>ID</th>\n",
       "      <th>Usia</th>\n",
       "      <th>Status</th>\n",
       "      <th>Kelamin</th>\n",
       "      <th>Memiliki_Mobil</th>\n",
       "      <th>Penghasilan</th>\n",
       "      <th>Beli_Mobil</th>\n",
       "    </tr>\n",
       "  </thead>\n",
       "  <tbody>\n",
       "    <tr>\n",
       "      <th>0</th>\n",
       "      <td>1</td>\n",
       "      <td>32</td>\n",
       "      <td>1</td>\n",
       "      <td>0</td>\n",
       "      <td>0</td>\n",
       "      <td>240</td>\n",
       "      <td>1</td>\n",
       "    </tr>\n",
       "    <tr>\n",
       "      <th>1</th>\n",
       "      <td>2</td>\n",
       "      <td>49</td>\n",
       "      <td>2</td>\n",
       "      <td>1</td>\n",
       "      <td>1</td>\n",
       "      <td>100</td>\n",
       "      <td>0</td>\n",
       "    </tr>\n",
       "    <tr>\n",
       "      <th>2</th>\n",
       "      <td>3</td>\n",
       "      <td>52</td>\n",
       "      <td>1</td>\n",
       "      <td>0</td>\n",
       "      <td>2</td>\n",
       "      <td>250</td>\n",
       "      <td>1</td>\n",
       "    </tr>\n",
       "    <tr>\n",
       "      <th>3</th>\n",
       "      <td>4</td>\n",
       "      <td>26</td>\n",
       "      <td>2</td>\n",
       "      <td>1</td>\n",
       "      <td>1</td>\n",
       "      <td>130</td>\n",
       "      <td>0</td>\n",
       "    </tr>\n",
       "    <tr>\n",
       "      <th>4</th>\n",
       "      <td>5</td>\n",
       "      <td>45</td>\n",
       "      <td>3</td>\n",
       "      <td>0</td>\n",
       "      <td>2</td>\n",
       "      <td>237</td>\n",
       "      <td>1</td>\n",
       "    </tr>\n",
       "  </tbody>\n",
       "</table>\n",
       "</div>"
      ],
      "text/plain": [
       "   ID  Usia  Status  Kelamin  Memiliki_Mobil  Penghasilan  Beli_Mobil\n",
       "0   1    32       1        0               0          240           1\n",
       "1   2    49       2        1               1          100           0\n",
       "2   3    52       1        0               2          250           1\n",
       "3   4    26       2        1               1          130           0\n",
       "4   5    45       3        0               2          237           1"
      ]
     },
     "execution_count": 3,
     "metadata": {},
     "output_type": "execute_result"
    }
   ],
   "source": [
    "df = pd.read_csv('../Data/calonpembelimobil.csv')\n",
    "\n",
    "df.head()"
   ]
  },
  {
   "cell_type": "markdown",
   "id": "41c0c45c",
   "metadata": {},
   "source": [
    "### Melihat informasi umum dataset"
   ]
  },
  {
   "cell_type": "code",
   "execution_count": 4,
   "id": "c3caedf8",
   "metadata": {},
   "outputs": [
    {
     "name": "stdout",
     "output_type": "stream",
     "text": [
      "<class 'pandas.core.frame.DataFrame'>\n",
      "RangeIndex: 1000 entries, 0 to 999\n",
      "Data columns (total 7 columns):\n",
      " #   Column          Non-Null Count  Dtype\n",
      "---  ------          --------------  -----\n",
      " 0   ID              1000 non-null   int64\n",
      " 1   Usia            1000 non-null   int64\n",
      " 2   Status          1000 non-null   int64\n",
      " 3   Kelamin         1000 non-null   int64\n",
      " 4   Memiliki_Mobil  1000 non-null   int64\n",
      " 5   Penghasilan     1000 non-null   int64\n",
      " 6   Beli_Mobil      1000 non-null   int64\n",
      "dtypes: int64(7)\n",
      "memory usage: 54.8 KB\n"
     ]
    }
   ],
   "source": [
    "df.info()"
   ]
  },
  {
   "cell_type": "markdown",
   "id": "b1ed6464",
   "metadata": {},
   "source": [
    "<h2>Data Pre-processing</h2>"
   ]
  },
  {
   "cell_type": "markdown",
   "id": "b9e2acfa",
   "metadata": {},
   "source": [
    "<li>Cek Missing Value</li>"
   ]
  },
  {
   "cell_type": "code",
   "execution_count": 5,
   "id": "e3dceb01",
   "metadata": {},
   "outputs": [
    {
     "data": {
      "text/plain": [
       "ID                0\n",
       "Usia              0\n",
       "Status            0\n",
       "Kelamin           0\n",
       "Memiliki_Mobil    0\n",
       "Penghasilan       0\n",
       "Beli_Mobil        0\n",
       "dtype: int64"
      ]
     },
     "execution_count": 5,
     "metadata": {},
     "output_type": "execute_result"
    }
   ],
   "source": [
    "df.isnull().sum()"
   ]
  },
  {
   "cell_type": "markdown",
   "id": "28d6471f",
   "metadata": {},
   "source": [
    "<li>Cek Duplikat Data</li>"
   ]
  },
  {
   "cell_type": "code",
   "execution_count": 6,
   "id": "55ca8e84",
   "metadata": {},
   "outputs": [
    {
     "data": {
      "text/plain": [
       "np.int64(0)"
      ]
     },
     "execution_count": 6,
     "metadata": {},
     "output_type": "execute_result"
    }
   ],
   "source": [
    "df.duplicated().sum()"
   ]
  },
  {
   "cell_type": "markdown",
   "id": "5317c2a9",
   "metadata": {},
   "source": [
    "<li>Analisis Korelasi Antar Variabel Numerik</li>"
   ]
  },
  {
   "cell_type": "code",
   "execution_count": 16,
   "id": "7d473104",
   "metadata": {},
   "outputs": [
    {
     "data": {
      "text/html": [
       "<div>\n",
       "<style scoped>\n",
       "    .dataframe tbody tr th:only-of-type {\n",
       "        vertical-align: middle;\n",
       "    }\n",
       "\n",
       "    .dataframe tbody tr th {\n",
       "        vertical-align: top;\n",
       "    }\n",
       "\n",
       "    .dataframe thead th {\n",
       "        text-align: right;\n",
       "    }\n",
       "</style>\n",
       "<table border=\"1\" class=\"dataframe\">\n",
       "  <thead>\n",
       "    <tr style=\"text-align: right;\">\n",
       "      <th></th>\n",
       "      <th>ID</th>\n",
       "      <th>Usia</th>\n",
       "      <th>Status</th>\n",
       "      <th>Kelamin</th>\n",
       "      <th>Memiliki_Mobil</th>\n",
       "      <th>Penghasilan</th>\n",
       "      <th>Beli_Mobil</th>\n",
       "    </tr>\n",
       "  </thead>\n",
       "  <tbody>\n",
       "    <tr>\n",
       "      <th>ID</th>\n",
       "      <td>1.000000</td>\n",
       "      <td>0.149779</td>\n",
       "      <td>-0.006634</td>\n",
       "      <td>0.014646</td>\n",
       "      <td>0.068555</td>\n",
       "      <td>0.254177</td>\n",
       "      <td>0.168614</td>\n",
       "    </tr>\n",
       "    <tr>\n",
       "      <th>Usia</th>\n",
       "      <td>0.149779</td>\n",
       "      <td>1.000000</td>\n",
       "      <td>0.051476</td>\n",
       "      <td>0.019454</td>\n",
       "      <td>0.090926</td>\n",
       "      <td>0.125859</td>\n",
       "      <td>0.100127</td>\n",
       "    </tr>\n",
       "    <tr>\n",
       "      <th>Status</th>\n",
       "      <td>-0.006634</td>\n",
       "      <td>0.051476</td>\n",
       "      <td>1.000000</td>\n",
       "      <td>-0.008561</td>\n",
       "      <td>0.048302</td>\n",
       "      <td>0.071714</td>\n",
       "      <td>0.048584</td>\n",
       "    </tr>\n",
       "    <tr>\n",
       "      <th>Kelamin</th>\n",
       "      <td>0.014646</td>\n",
       "      <td>0.019454</td>\n",
       "      <td>-0.008561</td>\n",
       "      <td>1.000000</td>\n",
       "      <td>0.035199</td>\n",
       "      <td>-0.054211</td>\n",
       "      <td>-0.147301</td>\n",
       "    </tr>\n",
       "    <tr>\n",
       "      <th>Memiliki_Mobil</th>\n",
       "      <td>0.068555</td>\n",
       "      <td>0.090926</td>\n",
       "      <td>0.048302</td>\n",
       "      <td>0.035199</td>\n",
       "      <td>1.000000</td>\n",
       "      <td>0.137823</td>\n",
       "      <td>0.102005</td>\n",
       "    </tr>\n",
       "    <tr>\n",
       "      <th>Penghasilan</th>\n",
       "      <td>0.254177</td>\n",
       "      <td>0.125859</td>\n",
       "      <td>0.071714</td>\n",
       "      <td>-0.054211</td>\n",
       "      <td>0.137823</td>\n",
       "      <td>1.000000</td>\n",
       "      <td>0.763930</td>\n",
       "    </tr>\n",
       "    <tr>\n",
       "      <th>Beli_Mobil</th>\n",
       "      <td>0.168614</td>\n",
       "      <td>0.100127</td>\n",
       "      <td>0.048584</td>\n",
       "      <td>-0.147301</td>\n",
       "      <td>0.102005</td>\n",
       "      <td>0.763930</td>\n",
       "      <td>1.000000</td>\n",
       "    </tr>\n",
       "  </tbody>\n",
       "</table>\n",
       "</div>"
      ],
      "text/plain": [
       "                      ID      Usia    Status   Kelamin  Memiliki_Mobil  \\\n",
       "ID              1.000000  0.149779 -0.006634  0.014646        0.068555   \n",
       "Usia            0.149779  1.000000  0.051476  0.019454        0.090926   \n",
       "Status         -0.006634  0.051476  1.000000 -0.008561        0.048302   \n",
       "Kelamin         0.014646  0.019454 -0.008561  1.000000        0.035199   \n",
       "Memiliki_Mobil  0.068555  0.090926  0.048302  0.035199        1.000000   \n",
       "Penghasilan     0.254177  0.125859  0.071714 -0.054211        0.137823   \n",
       "Beli_Mobil      0.168614  0.100127  0.048584 -0.147301        0.102005   \n",
       "\n",
       "                Penghasilan  Beli_Mobil  \n",
       "ID                 0.254177    0.168614  \n",
       "Usia               0.125859    0.100127  \n",
       "Status             0.071714    0.048584  \n",
       "Kelamin           -0.054211   -0.147301  \n",
       "Memiliki_Mobil     0.137823    0.102005  \n",
       "Penghasilan        1.000000    0.763930  \n",
       "Beli_Mobil         0.763930    1.000000  "
      ]
     },
     "execution_count": 16,
     "metadata": {},
     "output_type": "execute_result"
    }
   ],
   "source": [
    "corr_matrix = df.corr()\n",
    "corr_matrix"
   ]
  },
  {
   "cell_type": "markdown",
   "id": "64c9dfda",
   "metadata": {},
   "source": [
    "<li>Visualisasi Heatmap Korelasi</li>"
   ]
  },
  {
   "cell_type": "code",
   "execution_count": 17,
   "id": "28d346ee",
   "metadata": {},
   "outputs": [
    {
     "data": {
      "image/png": "[encoded data removed]",
      "text/plain": [
       "<Figure size 800x600 with 2 Axes>"
      ]
     },
     "metadata": {},
     "output_type": "display_data"
    }
   ],
   "source": [
    "# Visualisasi Heatmap\n",
    "import seaborn as sns\n",
    "import matplotlib.pyplot as plt\n",
    "\n",
    "plt.figure(figsize=(8,6))\n",
    "sns.heatmap(corr_matrix, annot=True, cmap='coolwarm', fmt=\".2f\", linewidth=0.5)\n",
    "plt.title(\"Heatmap Korelasi Calon Pembeli Mobil\", fontsize=12)\n",
    "plt.show()"
   ]
  },
  {
   "cell_type": "markdown",
   "id": "680e63da",
   "metadata": {},
   "source": [
    "### Pembagian Dataset (Training dan Testing)"
   ]
  },
  {
   "cell_type": "markdown",
   "id": "c6827096",
   "metadata": {},
   "source": [
    "<li>Menentukan Fitur dan Target</li>"
   ]
  },
  {
   "cell_type": "code",
   "execution_count": 20,
   "id": "218bb29b",
   "metadata": {},
   "outputs": [
    {
     "name": "stdout",
     "output_type": "stream",
     "text": [
      "X shape: (1000, 5)\n",
      "y shape: (1000,)\n"
     ]
    }
   ],
   "source": [
    "# Fitur numerik dan gender\n",
    "feature_num = ['Usia', 'Penghasilan']\n",
    "feature_bin = ['Status', 'Kelamin', 'Memiliki_Mobil']\n",
    "\n",
    "# Gabungkan & drop missing\n",
    "use_cols = feature_num + feature_bin + ['Beli_Mobil']\n",
    "df_model = df [use_cols].dropna().copy()\n",
    "\n",
    "X = df_model [feature_num + feature_bin]\n",
    "y = df_model['Beli_Mobil']\n",
    "\n",
    "print(\"X shape:\", X.shape)\n",
    "print(\"y shape:\", y.shape)"
   ]
  },
  {
   "cell_type": "markdown",
   "id": "601422bc",
   "metadata": {},
   "source": [
    "<li>Membagi Dataset menjadi Training dan Testing Set</li>"
   ]
  },
  {
   "cell_type": "code",
   "execution_count": 21,
   "id": "32cf3611",
   "metadata": {},
   "outputs": [
    {
     "name": "stdout",
     "output_type": "stream",
     "text": [
      "Data latih: (800, 5)\n",
      "Data uji: (200, 5)\n"
     ]
    }
   ],
   "source": [
    "X_train, X_test, y_train, y_test = train_test_split(\n",
    "    X, y,\n",
    "    test_size=0.2,\n",
    "    random_state=42,\n",
    "    stratify=y\n",
    ")\n",
    "\n",
    "print(\"Data latih:\", X_train.shape)\n",
    "print(\"Data uji:\", X_test.shape)    "
   ]
  },
  {
   "cell_type": "markdown",
   "id": "28e533e5",
   "metadata": {},
   "source": [
    "### Pembangunan Model Logistic Regression"
   ]
  },
  {
   "cell_type": "code",
   "execution_count": 22,
   "id": "98c30291",
   "metadata": {},
   "outputs": [
    {
     "name": "stdout",
     "output_type": "stream",
     "text": [
      "👊🏻✅ Model Logistic Regression berhasil dilatih.\n"
     ]
    }
   ],
   "source": [
    "# Scale hanya fitur numerik, gender Langsung passthrough\n",
    "preprocess = ColumnTransformer(\n",
    "    transformers=[\n",
    "    ('num', StandardScaler (), feature_num),\n",
    "    ('bin', 'passthrough', feature_bin)\n",
    "    ],\n",
    "    remainder='drop'\n",
    ")\n",
    "\n",
    "model = LogisticRegression(\n",
    "    max_iter=1000,\n",
    "    solver='lbfgs',\n",
    "    class_weight='balanced',\n",
    "    random_state=42\n",
    ")\n",
    "\n",
    "clf = Pipeline([\n",
    "    ('preprocess', preprocess),\n",
    "    ('model', model)\n",
    "])\n",
    "\n",
    "# Latih model\n",
    "clf.fit(X_train, y_train)\n",
    "print(\"👊🏻✅ Model Logistic Regression berhasil dilatih.\")"
   ]
  },
  {
   "cell_type": "markdown",
   "id": "af2a78fa",
   "metadata": {},
   "source": [
    "### Prediksi Model dan Evaluasi Model"
   ]
  },
  {
   "cell_type": "code",
   "execution_count": 23,
   "id": "0e9ccf81",
   "metadata": {},
   "outputs": [
    {
     "name": "stdout",
     "output_type": "stream",
     "text": [
      "Akurasi : (accuracy_score(y_test, y_pred):.4f)\n",
      "Precision (precision_score(y_test, y_pred, zero_division=0):.4f)\n",
      "Recall : 0.9055\n",
      "F1-Score: (f1_score(y_test, y_pred, zero_division=0):.4f)\n",
      "ROC-AUC : 0.9769\n"
     ]
    }
   ],
   "source": [
    "# Prediksi & probabilitas\n",
    "y_pred = clf.predict(X_test)\n",
    "y_prob = clf.predict_proba(X_test)[:, 1]\n",
    "#Hitung metrik\n",
    "print(f\"Akurasi : (accuracy_score(y_test, y_pred):.4f)\")\n",
    "print(f\"Precision (precision_score(y_test, y_pred, zero_division=0):.4f)\")\n",
    "print(f\"Recall : {recall_score(y_test, y_pred, zero_division=0):.4f}\")\n",
    "print(f\"F1-Score: (f1_score(y_test, y_pred, zero_division=0):.4f)\")\n",
    "print(f\"ROC-AUC : {roc_auc_score(y_test, y_prob):.4f}\")"
   ]
  },
  {
   "cell_type": "markdown",
   "id": "615cc2b6",
   "metadata": {},
   "source": [
    "### Visualisasi Hasil Evaluasi"
   ]
  },
  {
   "cell_type": "code",
   "execution_count": 28,
   "id": "d7a4e65d",
   "metadata": {},
   "outputs": [
    {
     "data": {
      "image/png": "[encoded data removed]",
      "text/plain": [
       "<Figure size 640x480 with 2 Axes>"
      ]
     },
     "metadata": {},
     "output_type": "display_data"
    },
    {
     "data": {
      "image/png": "[encoded data removed]",
      "text/plain": [
       "<Figure size 640x480 with 1 Axes>"
      ]
     },
     "metadata": {},
     "output_type": "display_data"
    }
   ],
   "source": [
    "# Confusion Matrix\n",
    "ConfusionMatrixDisplay (confusion_matrix(y_test, y_pred),\n",
    "                        display_labels=['Tidak Beli (0)', 'Beli (1)']\n",
    "                        ).plot(values_format='d')\n",
    "plt.title(\"Confusion Matrix\")\n",
    "plt.show()\n",
    "\n",
    "#ROC Curve\n",
    "RocCurveDisplay.from_estimator (clf, X_test, y_test)\n",
    "plt.title(\"ROC Curve Logistic Regression\")\n",
    "plt.show()"
   ]
  },
  {
   "cell_type": "markdown",
   "id": "34c933dd",
   "metadata": {},
   "source": [
    "### Classification Report"
   ]
  },
  {
   "cell_type": "code",
   "execution_count": 29,
   "id": "e0db8fa7",
   "metadata": {},
   "outputs": [
    {
     "name": "stdout",
     "output_type": "stream",
     "text": [
      "                precision    recall  f1-score   support\n",
      "\n",
      "Tidak Beli (0)       0.86      0.97      0.91        73\n",
      "      Beli (1)       0.98      0.91      0.94       127\n",
      "\n",
      "      accuracy                           0.93       200\n",
      "     macro avg       0.92      0.94      0.93       200\n",
      "  weighted avg       0.94      0.93      0.93       200\n",
      "\n"
     ]
    }
   ],
   "source": [
    "from sklearn.metrics import classification_report\n",
    "print(classification_report(y_test, y_pred, target_names=['Tidak Beli (0)', 'Beli (1)']))"
   ]
  },
  {
   "cell_type": "code",
   "execution_count": 30,
   "id": "b890148e",
   "metadata": {},
   "outputs": [
    {
     "name": "stdout",
     "output_type": "stream",
     "text": [
      "Skor tiap fold: [0.775 0.915 0.955 0.945 0.94 ]\n",
      "Rata-rata akurasi: 0.9059999999999999\n",
      "Standar deviasi: 0.06681317235396023\n"
     ]
    }
   ],
   "source": [
    "from sklearn.model_selection import cross_val_score\n",
    "# Lakukan cross validation (cv=5 berarti 5-fold)\n",
    "scores = cross_val_score(clf, X, y, cv=5)\n",
    "# Tampilkan hasil\n",
    "print(\"Skor tiap fold:\",\n",
    "scores)\n",
    "print(\"Rata-rata akurasi:\", np.mean (scores))\n",
    "print(\"Standar deviasi:\", np.std(scores))"
   ]
  },
  {
   "cell_type": "markdown",
   "id": "b4ca85cb",
   "metadata": {},
   "source": [
    "### Interpretasi Model Logistic Regression"
   ]
  },
  {
   "cell_type": "code",
   "execution_count": 31,
   "id": "98452704",
   "metadata": {},
   "outputs": [
    {
     "data": {
      "text/html": [
       "<div>\n",
       "<style scoped>\n",
       "    .dataframe tbody tr th:only-of-type {\n",
       "        vertical-align: middle;\n",
       "    }\n",
       "\n",
       "    .dataframe tbody tr th {\n",
       "        vertical-align: top;\n",
       "    }\n",
       "\n",
       "    .dataframe thead th {\n",
       "        text-align: right;\n",
       "    }\n",
       "</style>\n",
       "<table border=\"1\" class=\"dataframe\">\n",
       "  <thead>\n",
       "    <tr style=\"text-align: right;\">\n",
       "      <th></th>\n",
       "      <th>Fitur</th>\n",
       "      <th>Koefisien (log-odds)</th>\n",
       "      <th>Odds Ratio (e^coef)</th>\n",
       "    </tr>\n",
       "  </thead>\n",
       "  <tbody>\n",
       "    <tr>\n",
       "      <th>1</th>\n",
       "      <td>Penghasilan</td>\n",
       "      <td>4.550296</td>\n",
       "      <td>94.660404</td>\n",
       "    </tr>\n",
       "    <tr>\n",
       "      <th>4</th>\n",
       "      <td>Memiliki_Mobil</td>\n",
       "      <td>0.094958</td>\n",
       "      <td>1.099613</td>\n",
       "    </tr>\n",
       "    <tr>\n",
       "      <th>0</th>\n",
       "      <td>Usia</td>\n",
       "      <td>-0.046660</td>\n",
       "      <td>0.954412</td>\n",
       "    </tr>\n",
       "    <tr>\n",
       "      <th>2</th>\n",
       "      <td>Status</td>\n",
       "      <td>-0.124292</td>\n",
       "      <td>0.883122</td>\n",
       "    </tr>\n",
       "    <tr>\n",
       "      <th>3</th>\n",
       "      <td>Kelamin</td>\n",
       "      <td>-1.130837</td>\n",
       "      <td>0.322763</td>\n",
       "    </tr>\n",
       "  </tbody>\n",
       "</table>\n",
       "</div>"
      ],
      "text/plain": [
       "            Fitur  Koefisien (log-odds)  Odds Ratio (e^coef)\n",
       "1     Penghasilan              4.550296            94.660404\n",
       "4  Memiliki_Mobil              0.094958             1.099613\n",
       "0            Usia             -0.046660             0.954412\n",
       "2          Status             -0.124292             0.883122\n",
       "3         Kelamin             -1.130837             0.322763"
      ]
     },
     "metadata": {},
     "output_type": "display_data"
    }
   ],
   "source": [
    "#Ambil nama fitur & koefisien\n",
    "feat_names = feature_num + feature_bin\n",
    "coefs = clf.named_steps['model'].coef_[0]\n",
    "odds = np.exp(coefs)\n",
    "coef_df= pd.DataFrame({\n",
    "'Fitur': feat_names,\n",
    "'Koefisien (log-odds)':\n",
    "coefs,\n",
    "'Odds Ratio (e^coef)':\n",
    "odds\n",
    "}).sort_values('Odds Ratio (e^coef)', ascending=False)\n",
    "display(coef_df)"
   ]
  },
  {
   "cell_type": "markdown",
   "id": "8e090905",
   "metadata": {},
   "source": [
    "### Prediksi Data Baru (Contoh Kasus)"
   ]
  },
  {
   "cell_type": "code",
   "execution_count": 35,
   "id": "6c1f8b8c",
   "metadata": {},
   "outputs": [
    {
     "data": {
      "text/html": [
       "<div>\n",
       "<style scoped>\n",
       "    .dataframe tbody tr th:only-of-type {\n",
       "        vertical-align: middle;\n",
       "    }\n",
       "\n",
       "    .dataframe tbody tr th {\n",
       "        vertical-align: top;\n",
       "    }\n",
       "\n",
       "    .dataframe thead th {\n",
       "        text-align: right;\n",
       "    }\n",
       "</style>\n",
       "<table border=\"1\" class=\"dataframe\">\n",
       "  <thead>\n",
       "    <tr style=\"text-align: right;\">\n",
       "      <th></th>\n",
       "      <th>Usia</th>\n",
       "      <th>Penghasilan</th>\n",
       "      <th>Status</th>\n",
       "      <th>Kelamin</th>\n",
       "      <th>Memiliki_Mobil</th>\n",
       "      <th>Prediksi</th>\n",
       "      <th>Probabilitas</th>\n",
       "    </tr>\n",
       "  </thead>\n",
       "  <tbody>\n",
       "    <tr>\n",
       "      <th>0</th>\n",
       "      <td>24</td>\n",
       "      <td>500</td>\n",
       "      <td>0</td>\n",
       "      <td>0</td>\n",
       "      <td>0</td>\n",
       "      <td>1</td>\n",
       "      <td>0.999999</td>\n",
       "    </tr>\n",
       "    <tr>\n",
       "      <th>1</th>\n",
       "      <td>45</td>\n",
       "      <td>1500</td>\n",
       "      <td>1</td>\n",
       "      <td>1</td>\n",
       "      <td>2</td>\n",
       "      <td>1</td>\n",
       "      <td>1.000000</td>\n",
       "    </tr>\n",
       "    <tr>\n",
       "      <th>2</th>\n",
       "      <td>30</td>\n",
       "      <td>800</td>\n",
       "      <td>3</td>\n",
       "      <td>0</td>\n",
       "      <td>1</td>\n",
       "      <td>1</td>\n",
       "      <td>1.000000</td>\n",
       "    </tr>\n",
       "  </tbody>\n",
       "</table>\n",
       "</div>"
      ],
      "text/plain": [
       "   Usia  Penghasilan  Status  Kelamin  Memiliki_Mobil  Prediksi  Probabilitas\n",
       "0    24          500       0        0               0         1      0.999999\n",
       "1    45         1500       1        1               2         1      1.000000\n",
       "2    30          800       3        0               1         1      1.000000"
      ]
     },
     "metadata": {},
     "output_type": "display_data"
    }
   ],
   "source": [
    "# Contoh data baru\n",
    "data_baru = pd.DataFrame({\n",
    "    'Usia': [24, 45, 30],\n",
    "    'Penghasilan': [500, 1500, 800],\n",
    "    'Status': [0, 1, 3], # 0: Single, 1: Married, 3: Janda\n",
    "    'Kelamin': [0, 1, 0], # 0: Perempuan, 1: Laki-laki\n",
    "    'Memiliki_Mobil': [0, 2, 1] # Jumlah mobil yang dimiliki\n",
    "})\n",
    "\n",
    "pred = clf.predict(data_baru)\n",
    "pred_prob = clf.predict_proba(data_baru)[:, 1]\n",
    "hasil = data_baru.copy()\n",
    "hasil['Prediksi'] = pred\n",
    "hasil['Probabilitas'] = pred_prob\n",
    "\n",
    "display(hasil)"
   ]
  }
 ],
 "metadata": {
  "kernelspec": {
   "display_name": "Python 3",
   "language": "python",
   "name": "python3"
  },
  "language_info": {
   "codemirror_mode": {
    "name": "ipython",
    "version": 3
   },
   "file_extension": ".py",
   "mimetype": "text/x-python",
   "name": "python",
   "nbconvert_exporter": "python",
   "pygments_lexer": "ipython3",
   "version": "3.13.3"
  }
 },
 "nbformat": 4,
 "nbformat_minor": 5
}
