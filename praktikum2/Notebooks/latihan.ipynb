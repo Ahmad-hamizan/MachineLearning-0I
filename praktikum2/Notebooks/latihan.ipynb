{
 "cells": [
  {
   "cell_type": "markdown",
   "id": "f13744a1",
   "metadata": {},
   "source": [
    "<h1>Membaca Dataset</h1>"
   ]
  },
  {
   "cell_type": "code",
   "execution_count": 1,
   "id": "18ce07c8",
   "metadata": {},
   "outputs": [
    {
     "name": "stdout",
     "output_type": "stream",
     "text": [
      "   instant      dteday  season  yr  mnth  holiday  weekday  workingday  \\\n",
      "0        1  2011-01-01       1   0     1        0        6           0   \n",
      "1        2  2011-01-02       1   0     1        0        0           0   \n",
      "2        3  2011-01-03       1   0     1        0        1           1   \n",
      "3        4  2011-01-04       1   0     1        0        2           1   \n",
      "4        5  2011-01-05       1   0     1        0        3           1   \n",
      "\n",
      "   weathersit      temp     atemp       hum  windspeed  casual  registered  \\\n",
      "0           2  0.344167  0.363625  0.805833   0.160446     331         654   \n",
      "1           2  0.363478  0.353739  0.696087   0.248539     131         670   \n",
      "2           1  0.196364  0.189405  0.437273   0.248309     120        1229   \n",
      "3           1  0.200000  0.212122  0.590435   0.160296     108        1454   \n",
      "4           1  0.226957  0.229270  0.436957   0.186900      82        1518   \n",
      "\n",
      "    cnt  \n",
      "0   985  \n",
      "1   801  \n",
      "2  1349  \n",
      "3  1562  \n",
      "4  1600  \n"
     ]
    }
   ],
   "source": [
    "import pandas as pd\n",
    "import numpy as np\n",
    "\n",
    "df = pd.read_csv('../Data/day.csv', sep=',')\n",
    "print(df.head())"
   ]
  },
  {
   "cell_type": "markdown",
   "id": "bb236ffe",
   "metadata": {},
   "source": [
    "<h1>Menjumlahkan Total Dataset</h1>"
   ]
  },
  {
   "cell_type": "code",
   "execution_count": 5,
   "id": "15db6561",
   "metadata": {},
   "outputs": [
    {
     "name": "stdout",
     "output_type": "stream",
     "text": [
      "Total data : 731\n"
     ]
    }
   ],
   "source": [
    "n_total = len(df)\n",
    "print(f\"Total data : {n_total}\")"
   ]
  },
  {
   "cell_type": "markdown",
   "id": "03378f95",
   "metadata": {},
   "source": [
    "<h4>Menampilkan Data Training (80% dari dataset)</h4>"
   ]
  },
  {
   "cell_type": "code",
   "execution_count": 6,
   "id": "1dba92e6",
   "metadata": {},
   "outputs": [
    {
     "name": "stdout",
     "output_type": "stream",
     "text": [
      "Data training : 584\n"
     ]
    }
   ],
   "source": [
    "n_train = int(0.8 * n_total)\n",
    "print(f\"Data training : {n_train}\")"
   ]
  },
  {
   "cell_type": "markdown",
   "id": "b801c262",
   "metadata": {},
   "source": [
    "<h4>Menampilkan Data Testing (20% dari dataset)</h4>"
   ]
  },
  {
   "cell_type": "code",
   "execution_count": 7,
   "id": "977cce77",
   "metadata": {},
   "outputs": [
    {
     "name": "stdout",
     "output_type": "stream",
     "text": [
      "Data testing : 147\n"
     ]
    }
   ],
   "source": [
    "n_test = n_total - n_train\n",
    "print(f\"Data testing : {n_test}\")"
   ]
  },
  {
   "cell_type": "markdown",
   "id": "19af30d2",
   "metadata": {},
   "source": [
    "<h4>Menampilkan data validasi (10% dari data training)</h4>"
   ]
  },
  {
   "cell_type": "code",
   "execution_count": null,
   "id": "8c9cd221",
   "metadata": {},
   "outputs": [
    {
     "name": "stdout",
     "output_type": "stream",
     "text": [
      "Data validasi : 58\n"
     ]
    }
   ],
   "source": [
    "n_valid = int(0.1 * n_train)\n",
    "print(f\"Data validasi : {n_valid}\")"
   ]
  }
 ],
 "metadata": {
  "kernelspec": {
   "display_name": "Python 3",
   "language": "python",
   "name": "python3"
  },
  "language_info": {
   "codemirror_mode": {
    "name": "ipython",
    "version": 3
   },
   "file_extension": ".py",
   "mimetype": "text/x-python",
   "name": "python",
   "nbconvert_exporter": "python",
   "pygments_lexer": "ipython3",
   "version": "3.13.3"
  }
 },
 "nbformat": 4,
 "nbformat_minor": 5
}
